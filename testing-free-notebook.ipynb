{
    "cells": [
        {
            "metadata": {},
            "cell_type": "markdown",
            "source": "# Teste para o Treelab com senoide simples"
        },
        {
            "metadata": {},
            "cell_type": "markdown",
            "source": "## Configura\u00e7\u00f5es iniciais"
        },
        {
            "metadata": {
                "scrolled": true
            },
            "cell_type": "code",
            "source": "import numpy as np\nimport matplotlib.pyplot as plt\n\n# Jupyter Specifics\nfrom IPython.display import HTML\nfrom ipywidgets.widgets import interact, IntSlider, FloatSlider, Layout\n\nstyle = {'description_width': '150px'}\nslider_layout = Layout(width='99%')",
            "execution_count": null,
            "outputs": []
        },
        {
            "metadata": {},
            "cell_type": "markdown",
            "source": "## Criando fun\u00e7\u00e3o de intera\u00e7\u00e3o"
        },
        {
            "metadata": {
                "scrolled": true
            },
            "cell_type": "code",
            "source": "def main(h_limit, n_points, alpha, amp, offset_x, offset_y):\n    nparr_x = offset_x + np.linspace(-h_limit * np.pi, h_limit * np.pi, n_points)\n    nparr_alsinx = offset_y + amp * np.sin(alpha * nparr_x)\n    plt.plot(nparr_x, nparr_alsinx)\n    plt.grid()\n    plt.show()",
            "execution_count": null,
            "outputs": []
        },
        {
            "metadata": {},
            "cell_type": "code",
            "source": "interact(main,\n         h_limit=FloatSlider(min=1, max=5, step=0.1, description='Limite horizontal', style=style, layout=slider_layout),\n         n_points=IntSlider(min=100, max=3000, step=100, description='N\u00famero de pontos', style=style, layout=slider_layout),\n         alpha=FloatSlider(min=1, max=10, step=0.1, description='Fase', style=style, layout=slider_layout),\n         amp=FloatSlider(min=0.1, max=5, step=0.1, description='Amplitude', style=style, layout=slider_layout),\n         offset_x=FloatSlider(min=0, max=10, step=0.5, description='Offset nas abscissas', style=style, layout=slider_layout),\n         offset_y=FloatSlider(min=0, max=3, step=0.1, description='Offset nas ordenadas', style=style, layout=slider_layout)\n        );",
            "execution_count": null,
            "outputs": []
        }
    ],
    "metadata": {
        "kernelspec": {
            "name": "python3",
            "display_name": "Python 3.6",
            "language": "python"
        },
        "language_info": {
            "name": "python",
            "version": "3.6.9",
            "mimetype": "text/x-python",
            "codemirror_mode": {
                "name": "ipython",
                "version": 3
            },
            "pygments_lexer": "ipython3",
            "nbconvert_exporter": "python",
            "file_extension": ".py"
        },
        "tags": [
            "hide_input"
        ]
    },
    "nbformat": 4,
    "nbformat_minor": 1
}